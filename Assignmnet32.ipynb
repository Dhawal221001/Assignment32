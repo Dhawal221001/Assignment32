{
 "cells": [
  {
   "cell_type": "markdown",
   "id": "c865c965-6143-49cf-b6fd-d9c5d566618f",
   "metadata": {},
   "source": [
    "## Q1: What are the Probability Mass Function (PMF) and Probability Density Function (PDF)? Explain with an example."
   ]
  },
  {
   "cell_type": "markdown",
   "id": "893a97e8-d2bb-4b16-a764-5c8221d163c6",
   "metadata": {},
   "source": [
    "### Probability distribution function for discrete random variables is Pmf. While probability distribution function for continuous random variables is Pdf.\n",
    "### Example of PMF: Tossing of coin, 3 consecutive time in a series.\n",
    "### Example of Pdf: Weight of students in a college."
   ]
  },
  {
   "cell_type": "markdown",
   "id": "1e8013f0-a302-481f-84b9-60f621c9a190",
   "metadata": {},
   "source": [
    "## Q2: What is Cumulative Density Function (CDF)? Explain with an example. Why CDF is used?"
   ]
  },
  {
   "cell_type": "markdown",
   "id": "52dde98e-aebd-4e72-9491-20f0740b240d",
   "metadata": {},
   "source": [
    "### CDF is cumulative distribution for the random variables. In other words it is sum of all the PDF for all the random variable less than or equal to it.\n",
    "### Consider a case of rolling a dice: In this CDF(x=3)=PDF(x<=3)=1/6 + 1/6 + 1/6= 3/6"
   ]
  },
  {
   "cell_type": "markdown",
   "id": "80ac066c-8296-4a2b-9099-ff828776441c",
   "metadata": {},
   "source": [
    "## Q3: What are some examples of situations where the normal distribution might be used as a model? Explain how the parameters of the normal distribution relate to the shape of the distribution."
   ]
  },
  {
   "cell_type": "markdown",
   "id": "1bc62b77-5459-4a83-bf61-029708593435",
   "metadata": {},
   "source": [
    "### Examples of Normal Distribution are Weight, height of a city.\n",
    "### Parameters of normal distribution are Mean and standard deviation .i.e. \"mu\" and \"sigma\".\n",
    "### mu is in center of distribution i.e. distribution is equally distributed across both  the side of mu."
   ]
  },
  {
   "cell_type": "markdown",
   "id": "8e7cc511-ca15-4d9a-ab93-ba3eb520fcd4",
   "metadata": {},
   "source": [
    "## Q4: Explain the importance of Normal Distribution. Give a few real-life examples of Normal Distribution. "
   ]
  },
  {
   "cell_type": "markdown",
   "id": "ca2253c6-78e3-45f7-8a67-ada86b97e2ab",
   "metadata": {},
   "source": [
    "### The normal distribution is an important probability distribution because many continuous data in nature and psychology shows bell shaped curve when compiled and graphed. Some real life examples of it are Height of people, sepal length, reading ability etc."
   ]
  },
  {
   "cell_type": "markdown",
   "id": "517fed45-17e4-44eb-bdf8-2adb3a20efbd",
   "metadata": {},
   "source": [
    "## Q5: What is Bernaulli Distribution? Give an Example. What is the difference between Bernoulli Distribution and Binomial Distribution?"
   ]
  },
  {
   "cell_type": "markdown",
   "id": "6c96275c-ef0d-4ccb-ae9f-8f0d788422a6",
   "metadata": {},
   "source": [
    "### It is a discrete probability distribution of a random variable which takes the value 1 with probability 'p' and the value 0 with probability '1-p'.\n",
    "### Bernaulli is for a single trial and Binomial is for n independent trials."
   ]
  },
  {
   "cell_type": "markdown",
   "id": "488fe77a-8c41-481b-b3c2-b391c387de04",
   "metadata": {},
   "source": [
    "## Q6. Consider a dataset with a mean of 50 and a standard deviation of 10. If we assume that the dataset is normally distributed, what is the probability that a randomly selected observation will be greater than 60? Use the appropriate formula and show your calculations. "
   ]
  },
  {
   "cell_type": "code",
   "execution_count": 5,
   "id": "b4fd9677-e5a8-4916-baa5-112bedcdbec2",
   "metadata": {},
   "outputs": [],
   "source": [
    "Z_score= (60-50)/10"
   ]
  },
  {
   "cell_type": "code",
   "execution_count": 6,
   "id": "e57cf173-1828-4899-991b-8a5bbd6f94a8",
   "metadata": {},
   "outputs": [
    {
     "data": {
      "text/plain": [
       "1.0"
      ]
     },
     "execution_count": 6,
     "metadata": {},
     "output_type": "execute_result"
    }
   ],
   "source": [
    "Z_score"
   ]
  },
  {
   "cell_type": "code",
   "execution_count": 8,
   "id": "240c2b34-0d06-4a44-9741-4443c6ba8d87",
   "metadata": {},
   "outputs": [],
   "source": [
    "Z1= 0.84134  ##(from z-table)"
   ]
  },
  {
   "cell_type": "code",
   "execution_count": 10,
   "id": "7021275a-65a2-4d43-b416-bd4bac895824",
   "metadata": {},
   "outputs": [],
   "source": [
    "Required_Probability = 1-Z1"
   ]
  },
  {
   "cell_type": "code",
   "execution_count": 11,
   "id": "e4cdbb76-05ff-4702-adcf-d47ee1a12236",
   "metadata": {},
   "outputs": [
    {
     "data": {
      "text/plain": [
       "0.15866000000000002"
      ]
     },
     "execution_count": 11,
     "metadata": {},
     "output_type": "execute_result"
    }
   ],
   "source": [
    "Required_Probability"
   ]
  },
  {
   "cell_type": "markdown",
   "id": "92a8e8da-3123-4b28-83ce-d721d87dd048",
   "metadata": {},
   "source": [
    "## Q7: Explain uniform Distribution with an example."
   ]
  },
  {
   "cell_type": "markdown",
   "id": "6ecfcaf2-e2ab-45d4-829f-ebd1d5ea9225",
   "metadata": {},
   "source": [
    "### It is a type of probability distribution is which every outcome is equally likely.\n",
    "### Example: Rolling of unbiased dice."
   ]
  },
  {
   "cell_type": "markdown",
   "id": "bb88a584-aab0-4cdf-8973-0f6ecf80379e",
   "metadata": {},
   "source": [
    "## Q8: What is the z score? State the importance of the z score. "
   ]
  },
  {
   "cell_type": "markdown",
   "id": "6c1f9931-3066-494f-a0a0-22c02b6ff454",
   "metadata": {},
   "source": [
    "### Z-score is a statistical measurement that describes a value's relationship to the mean of a group of values.\n",
    "### Importance of z score is that it is used to standardize the noraml distribution in modeling."
   ]
  },
  {
   "cell_type": "markdown",
   "id": "1cea5046-29cc-4ce4-8613-7d97bd75e1b8",
   "metadata": {},
   "source": [
    "## Q9: What is Central Limit Theorem? State the significance of the Central Limit Theorem."
   ]
  },
  {
   "cell_type": "markdown",
   "id": "b22cf558-50d1-4ee2-9741-edbfd7b10a50",
   "metadata": {},
   "source": [
    "### The central limit theorem says that the sampling distribution of the mean will always be normally distributed, as long as the sample size is large enough.\n",
    "### This is useful since the researcher never knows which mean in the sampling distribution corresponds to the population mean, but by taking numerous random samples from a population, the sample means will cluster together, allowing the researcher to obtain a very accurate estimate of the population mean."
   ]
  },
  {
   "cell_type": "markdown",
   "id": "2d8446e6-f04c-461d-9fa2-0c14df1bd1ae",
   "metadata": {},
   "source": [
    "## Q10: State the assumptions of the Central Limit Theorem."
   ]
  },
  {
   "cell_type": "markdown",
   "id": "48fe8043-8d94-45df-aa6b-dad0e163578b",
   "metadata": {},
   "source": [
    "### 1.The data must adhere to the randomization rule. It needs to be sampled at random.\n",
    "### 2.The samples should be unrelated to one another. One sample should not impact the others.\n",
    "### 3.The sample should be greater than 30 in case if population is not normally distributed."
   ]
  },
  {
   "cell_type": "code",
   "execution_count": null,
   "id": "27b0d1f8-16c9-4bff-9318-53541022caec",
   "metadata": {},
   "outputs": [],
   "source": []
  }
 ],
 "metadata": {
  "kernelspec": {
   "display_name": "Python 3 (ipykernel)",
   "language": "python",
   "name": "python3"
  },
  "language_info": {
   "codemirror_mode": {
    "name": "ipython",
    "version": 3
   },
   "file_extension": ".py",
   "mimetype": "text/x-python",
   "name": "python",
   "nbconvert_exporter": "python",
   "pygments_lexer": "ipython3",
   "version": "3.10.8"
  }
 },
 "nbformat": 4,
 "nbformat_minor": 5
}
